{
 "cells": [
  {
   "cell_type": "code",
   "execution_count": 3,
   "id": "a0530225",
   "metadata": {},
   "outputs": [
    {
     "name": "stdout",
     "output_type": "stream",
     "text": [
      "{1184, 6368, 5564, 5020, 2924, 284, 6232, 1210, 220, 2620}\n",
      "31626\n"
     ]
    }
   ],
   "source": [
    "def divisors(n):\n",
    "    divisors = [1]\n",
    "    for i in range(2, int(n**0.5) + 1):\n",
    "        if n % i == 0:\n",
    "            divisors.append(i)\n",
    "            if i != n // i:\n",
    "                divisors.append(n // i)\n",
    "    return sum(divisors)\n",
    "\n",
    "limit = 10000\n",
    "amicable_numbers = set()\n",
    "\n",
    "for a in range(2, limit):\n",
    "    b = divisors(a)\n",
    "    if b != a and b < limit and sum_of_divisors(b) == a:\n",
    "        amicable_numbers.add(a)\n",
    "        amicable_numbers.add(b)\n",
    "\n",
    "sum_amicable = sum(amicable_numbers)\n",
    "\n",
    "print(amicable_numbers)\n",
    "print(sum_amicable)"
   ]
  },
  {
   "cell_type": "code",
   "execution_count": null,
   "id": "43ce933a",
   "metadata": {},
   "outputs": [],
   "source": []
  }
 ],
 "metadata": {
  "kernelspec": {
   "display_name": "Python 3 (ipykernel)",
   "language": "python",
   "name": "python3"
  },
  "language_info": {
   "codemirror_mode": {
    "name": "ipython",
    "version": 3
   },
   "file_extension": ".py",
   "mimetype": "text/x-python",
   "name": "python",
   "nbconvert_exporter": "python",
   "pygments_lexer": "ipython3",
   "version": "3.11.7"
  }
 },
 "nbformat": 4,
 "nbformat_minor": 5
}
