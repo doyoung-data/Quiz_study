{
 "cells": [
  {
   "cell_type": "code",
   "execution_count": 53,
   "id": "f11b8c60",
   "metadata": {},
   "outputs": [],
   "source": [
    "a = 1\n",
    "x = 1\n",
    "\n",
    "while 500 >= len(lst):\n",
    "    lst = []\n",
    "    for i in range(1,samgak+1):\n",
    "        samgak = a\n",
    "        if samgak % i == 0:\n",
    "            lst.append(i)\n",
    "            lst.append(int(samgak/i))\n",
    "            samgak = int(samgak / i)\n",
    "            \n",
    "    x += 1\n",
    "    a += x\n"
   ]
  },
  {
   "cell_type": "code",
   "execution_count": 55,
   "id": "c18920fb",
   "metadata": {},
   "outputs": [
    {
     "data": {
      "text/plain": [
       "624"
      ]
     },
     "execution_count": 55,
     "metadata": {},
     "output_type": "execute_result"
    }
   ],
   "source": [
    "len(lst)"
   ]
  },
  {
   "cell_type": "code",
   "execution_count": null,
   "id": "11f11182",
   "metadata": {},
   "outputs": [],
   "source": []
  }
 ],
 "metadata": {
  "kernelspec": {
   "display_name": "Python 3 (ipykernel)",
   "language": "python",
   "name": "python3"
  },
  "language_info": {
   "codemirror_mode": {
    "name": "ipython",
    "version": 3
   },
   "file_extension": ".py",
   "mimetype": "text/x-python",
   "name": "python",
   "nbconvert_exporter": "python",
   "pygments_lexer": "ipython3",
   "version": "3.9.13"
  }
 },
 "nbformat": 4,
 "nbformat_minor": 5
}
