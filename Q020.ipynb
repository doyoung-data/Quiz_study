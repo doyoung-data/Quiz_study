{
 "cells": [
  {
   "cell_type": "code",
   "execution_count": 7,
   "id": "6a6fb199",
   "metadata": {},
   "outputs": [],
   "source": [
    "import math as m\n",
    "\n",
    "strfact = str(m.factorial(100))"
   ]
  },
  {
   "cell_type": "code",
   "execution_count": 11,
   "id": "e06a7c86",
   "metadata": {},
   "outputs": [],
   "source": [
    "sum=0\n",
    "for i in range(len(strfact)):\n",
    "    sum += int(strfact[i])"
   ]
  },
  {
   "cell_type": "code",
   "execution_count": 12,
   "id": "cfa44e7e",
   "metadata": {},
   "outputs": [
    {
     "data": {
      "text/plain": [
       "648"
      ]
     },
     "execution_count": 12,
     "metadata": {},
     "output_type": "execute_result"
    }
   ],
   "source": [
    "sum"
   ]
  },
  {
   "cell_type": "code",
   "execution_count": null,
   "id": "b04c2dd0",
   "metadata": {},
   "outputs": [],
   "source": []
  }
 ],
 "metadata": {
  "kernelspec": {
   "display_name": "Python 3 (ipykernel)",
   "language": "python",
   "name": "python3"
  },
  "language_info": {
   "codemirror_mode": {
    "name": "ipython",
    "version": 3
   },
   "file_extension": ".py",
   "mimetype": "text/x-python",
   "name": "python",
   "nbconvert_exporter": "python",
   "pygments_lexer": "ipython3",
   "version": "3.9.13"
  }
 },
 "nbformat": 4,
 "nbformat_minor": 5
}
