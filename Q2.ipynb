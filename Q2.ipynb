{
 "cells": [
  {
   "cell_type": "code",
   "execution_count": 15,
   "id": "981ac240",
   "metadata": {},
   "outputs": [
    {
     "name": "stdout",
     "output_type": "stream",
     "text": [
      "k is  8  and sum is  10\n",
      "k is  34  and sum is  44\n",
      "k is  144  and sum is  188\n",
      "k is  610  and sum is  798\n",
      "k is  2584  and sum is  3382\n",
      "k is  10946  and sum is  14328\n",
      "k is  46368  and sum is  60696\n",
      "k is  196418  and sum is  257114\n",
      "k is  832040  and sum is  1089154\n",
      "k is  3524578  and sum is  4613732\n"
     ]
    }
   ],
   "source": [
    "i = 1\n",
    "j = 2\n",
    "k = i + j\n",
    "sum = 2\n",
    "\n",
    "while k <= 4000000:\n",
    "    #i=1 j=2 k=3\n",
    "    i = j #i=2\n",
    "    j = k #j=3\n",
    "    k = i+j\n",
    "\n",
    "    if k%2 == 0:\n",
    "        sum += k\n",
    "        print('k is ', k, ' and sum is ', sum)"
   ]
  },
  {
   "cell_type": "code",
   "execution_count": null,
   "id": "c542eb82",
   "metadata": {},
   "outputs": [],
   "source": []
  },
  {
   "cell_type": "code",
   "execution_count": null,
   "id": "b7625780",
   "metadata": {},
   "outputs": [],
   "source": []
  }
 ],
 "metadata": {
  "kernelspec": {
   "display_name": "Python 3 (ipykernel)",
   "language": "python",
   "name": "python3"
  },
  "language_info": {
   "codemirror_mode": {
    "name": "ipython",
    "version": 3
   },
   "file_extension": ".py",
   "mimetype": "text/x-python",
   "name": "python",
   "nbconvert_exporter": "python",
   "pygments_lexer": "ipython3",
   "version": "3.9.13"
  }
 },
 "nbformat": 4,
 "nbformat_minor": 5
}
