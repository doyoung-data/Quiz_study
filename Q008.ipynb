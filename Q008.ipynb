{
 "cells": [
  {
   "cell_type": "code",
   "execution_count": 2,
   "id": "0f4c6aa3",
   "metadata": {},
   "outputs": [],
   "source": [
    "num = 7316717653133062491922511967442657474235534919493496983520312774506326239578318016984801869478851843858615607891129494954595017379583319528532088055111254069874715852386305071569329096329522744304355766896648950445244523161731856403098711121722383113622298934233803081353362766142828064444866452387493035890729629049156044077239071381051585930796086670172427121883998797908792274921901699720888093776657273330010533678812202354218097512545405947522435258490771167055601360483958644670632441572215539753697817977846174064955149290862569321978468622482839722413756570560574902614079729686524145351004748216637048440319989000889524345065854122758866688116427171479924442928230863465674813919123162824586178664583591245665294765456828489128831426076900422421902267105562632111110937054421750694165896040807198403850962455444362981230987879927244284909188845801561660979191338754992005240636899125607176060588611646710940507754100225698315520005593572972571636269561882670428252483600823257530420752963450"
   ]
  },
  {
   "cell_type": "code",
   "execution_count": 6,
   "id": "9db18dc9",
   "metadata": {},
   "outputs": [],
   "source": [
    "strnum = str(num)"
   ]
  },
  {
   "cell_type": "code",
   "execution_count": 52,
   "id": "9d388e2b",
   "metadata": {},
   "outputs": [
    {
     "name": "stdout",
     "output_type": "stream",
     "text": [
      "23514624000\n"
     ]
    }
   ],
   "source": [
    "max_num = 0\n",
    "k = 0\n",
    "\n",
    "for i in range(len(strnum)):\n",
    "    if strnum[i]== '0' or strnum[i+1]== '0' or strnum[i+2]== '0' or strnum[i+3]== '0' or strnum[i+4]== '0' or strnum[i+5]== '0' or strnum[i+6]== '0' or strnum[i+7]== '0' or strnum[i+8]== '0' or strnum[i+9]== '0' or strnum[i+10]== '0' or strnum[i+11]== '0' or strnum[i+12]== '0':\n",
    "        continue;\n",
    "    else:\n",
    "        k = int(strnum[i])*int(strnum[i+1])*int(strnum[i+2])*int(strnum[i+3])*int(strnum[i+4])*int(strnum[i+5])*int(strnum[i+6])*int(strnum[i+7])*int(strnum[i+8])*int(strnum[i+9])*int(strnum[i+10])*int(strnum[i+11])*int(strnum[i+12])\n",
    "\n",
    "        if max_num < k:\n",
    "            max_num = k\n",
    "            \n",
    "print(max_num)\n"
   ]
  },
  {
   "cell_type": "code",
   "execution_count": null,
   "id": "a0500cae",
   "metadata": {},
   "outputs": [],
   "source": []
  },
  {
   "cell_type": "code",
   "execution_count": null,
   "id": "7bc6484f",
   "metadata": {},
   "outputs": [],
   "source": []
  }
 ],
 "metadata": {
  "kernelspec": {
   "display_name": "Python 3 (ipykernel)",
   "language": "python",
   "name": "python3"
  },
  "language_info": {
   "codemirror_mode": {
    "name": "ipython",
    "version": 3
   },
   "file_extension": ".py",
   "mimetype": "text/x-python",
   "name": "python",
   "nbconvert_exporter": "python",
   "pygments_lexer": "ipython3",
   "version": "3.9.13"
  }
 },
 "nbformat": 4,
 "nbformat_minor": 5
}
