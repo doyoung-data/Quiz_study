{
 "cells": [
  {
   "cell_type": "code",
   "execution_count": 28,
   "id": "db075e82",
   "metadata": {},
   "outputs": [],
   "source": [
    "a = '''75\n",
    "95 64\n",
    "17 47 82\n",
    "18 35 87 10\n",
    "20 04 82 47 65\n",
    "19 01 23 75 03 34\n",
    "88 02 77 73 07 63 67\n",
    "99 65 04 28 06 16 70 92\n",
    "41 41 26 56 83 40 80 70 33\n",
    "41 48 72 33 47 32 37 16 94 29\n",
    "53 71 44 65 25 43 91 52 97 51 14\n",
    "70 11 33 28 77 73 17 78 39 68 17 57\n",
    "91 71 52 38 17 14 91 43 58 50 27 29 48\n",
    "63 66 04 68 89 53 67 30 73 16 69 87 40 31\n",
    "04 62 98 27 23 09 70 98 73 93 38 53 60 04 23'''"
   ]
  },
  {
   "cell_type": "code",
   "execution_count": 29,
   "id": "9c6738f3",
   "metadata": {},
   "outputs": [
    {
     "data": {
      "text/plain": [
       "'75\\n95 64\\n17 47 82\\n18 35 87 10\\n20 04 82 47 65\\n19 01 23 75 03 34\\n88 02 77 73 07 63 67\\n99 65 04 28 06 16 70 92\\n41 41 26 56 83 40 80 70 33\\n41 48 72 33 47 32 37 16 94 29\\n53 71 44 65 25 43 91 52 97 51 14\\n70 11 33 28 77 73 17 78 39 68 17 57\\n91 71 52 38 17 14 91 43 58 50 27 29 48\\n63 66 04 68 89 53 67 30 73 16 69 87 40 31\\n04 62 98 27 23 09 70 98 73 93 38 53 60 04 23'"
      ]
     },
     "execution_count": 29,
     "metadata": {},
     "output_type": "execute_result"
    }
   ],
   "source": [
    "a"
   ]
  },
  {
   "cell_type": "code",
   "execution_count": 30,
   "id": "42d13c1e",
   "metadata": {},
   "outputs": [],
   "source": [
    "a = a.split('\\n')"
   ]
  },
  {
   "cell_type": "code",
   "execution_count": 31,
   "id": "8ed30f0d",
   "metadata": {},
   "outputs": [
    {
     "data": {
      "text/plain": [
       "['75',\n",
       " '95 64',\n",
       " '17 47 82',\n",
       " '18 35 87 10',\n",
       " '20 04 82 47 65',\n",
       " '19 01 23 75 03 34',\n",
       " '88 02 77 73 07 63 67',\n",
       " '99 65 04 28 06 16 70 92',\n",
       " '41 41 26 56 83 40 80 70 33',\n",
       " '41 48 72 33 47 32 37 16 94 29',\n",
       " '53 71 44 65 25 43 91 52 97 51 14',\n",
       " '70 11 33 28 77 73 17 78 39 68 17 57',\n",
       " '91 71 52 38 17 14 91 43 58 50 27 29 48',\n",
       " '63 66 04 68 89 53 67 30 73 16 69 87 40 31',\n",
       " '04 62 98 27 23 09 70 98 73 93 38 53 60 04 23']"
      ]
     },
     "execution_count": 31,
     "metadata": {},
     "output_type": "execute_result"
    }
   ],
   "source": [
    "a"
   ]
  },
  {
   "cell_type": "code",
   "execution_count": 38,
   "id": "38df1889",
   "metadata": {},
   "outputs": [],
   "source": [
    "d =a[1].split"
   ]
  },
  {
   "cell_type": "code",
   "execution_count": 36,
   "id": "a8633bcd",
   "metadata": {},
   "outputs": [
    {
     "data": {
      "text/plain": [
       "<function str.split(sep=None, maxsplit=-1)>"
      ]
     },
     "execution_count": 36,
     "metadata": {},
     "output_type": "execute_result"
    }
   ],
   "source": [
    "for i in range(len(d)):\n",
    "    "
   ]
  },
  {
   "cell_type": "code",
   "execution_count": null,
   "id": "ceee5c44",
   "metadata": {},
   "outputs": [],
   "source": []
  }
 ],
 "metadata": {
  "kernelspec": {
   "display_name": "Python 3 (ipykernel)",
   "language": "python",
   "name": "python3"
  },
  "language_info": {
   "codemirror_mode": {
    "name": "ipython",
    "version": 3
   },
   "file_extension": ".py",
   "mimetype": "text/x-python",
   "name": "python",
   "nbconvert_exporter": "python",
   "pygments_lexer": "ipython3",
   "version": "3.9.13"
  }
 },
 "nbformat": 4,
 "nbformat_minor": 5
}
