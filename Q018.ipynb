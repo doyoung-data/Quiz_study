{
 "cells": [
  {
   "cell_type": "code",
   "execution_count": 1,
   "id": "db075e82",
   "metadata": {},
   "outputs": [],
   "source": [
    "a = '''75\n",
    "95 64\n",
    "17 47 82\n",
    "18 35 87 10\n",
    "20 04 82 47 65\n",
    "19 01 23 75 03 34\n",
    "88 02 77 73 07 63 67\n",
    "99 65 04 28 06 16 70 92\n",
    "41 41 26 56 83 40 80 70 33\n",
    "41 48 72 33 47 32 37 16 94 29\n",
    "53 71 44 65 25 43 91 52 97 51 14\n",
    "70 11 33 28 77 73 17 78 39 68 17 57\n",
    "91 71 52 38 17 14 91 43 58 50 27 29 48\n",
    "63 66 04 68 89 53 67 30 73 16 69 87 40 31\n",
    "04 62 98 27 23 09 70 98 73 93 38 53 60 04 23'''"
   ]
  },
  {
   "cell_type": "code",
   "execution_count": 3,
   "id": "42d13c1e",
   "metadata": {},
   "outputs": [],
   "source": [
    "a = a.split('\\n')"
   ]
  },
  {
   "cell_type": "code",
   "execution_count": 5,
   "id": "8ed30f0d",
   "metadata": {},
   "outputs": [],
   "source": [
    "for i in range(len(a)):\n",
    "    a[i] = a[i].split(' ')"
   ]
  },
  {
   "cell_type": "code",
   "execution_count": 6,
   "id": "38df1889",
   "metadata": {},
   "outputs": [
    {
     "data": {
      "text/plain": [
       "[['75'],\n",
       " ['95', '64'],\n",
       " ['17', '47', '82'],\n",
       " ['18', '35', '87', '10'],\n",
       " ['20', '04', '82', '47', '65'],\n",
       " ['19', '01', '23', '75', '03', '34'],\n",
       " ['88', '02', '77', '73', '07', '63', '67'],\n",
       " ['99', '65', '04', '28', '06', '16', '70', '92'],\n",
       " ['41', '41', '26', '56', '83', '40', '80', '70', '33'],\n",
       " ['41', '48', '72', '33', '47', '32', '37', '16', '94', '29'],\n",
       " ['53', '71', '44', '65', '25', '43', '91', '52', '97', '51', '14'],\n",
       " ['70', '11', '33', '28', '77', '73', '17', '78', '39', '68', '17', '57'],\n",
       " ['91',\n",
       "  '71',\n",
       "  '52',\n",
       "  '38',\n",
       "  '17',\n",
       "  '14',\n",
       "  '91',\n",
       "  '43',\n",
       "  '58',\n",
       "  '50',\n",
       "  '27',\n",
       "  '29',\n",
       "  '48'],\n",
       " ['63',\n",
       "  '66',\n",
       "  '04',\n",
       "  '68',\n",
       "  '89',\n",
       "  '53',\n",
       "  '67',\n",
       "  '30',\n",
       "  '73',\n",
       "  '16',\n",
       "  '69',\n",
       "  '87',\n",
       "  '40',\n",
       "  '31'],\n",
       " ['04',\n",
       "  '62',\n",
       "  '98',\n",
       "  '27',\n",
       "  '23',\n",
       "  '09',\n",
       "  '70',\n",
       "  '98',\n",
       "  '73',\n",
       "  '93',\n",
       "  '38',\n",
       "  '53',\n",
       "  '60',\n",
       "  '04',\n",
       "  '23']]"
      ]
     },
     "execution_count": 6,
     "metadata": {},
     "output_type": "execute_result"
    }
   ],
   "source": [
    "a"
   ]
  },
  {
   "cell_type": "code",
   "execution_count": 105,
   "id": "6e63db32",
   "metadata": {},
   "outputs": [],
   "source": [
    "for i in range(len(a)):\n",
    "    for j in range(len(a[i])):\n",
    "        a[i][j]=int(a[i][j])"
   ]
  },
  {
   "cell_type": "code",
   "execution_count": 106,
   "id": "a8633bcd",
   "metadata": {},
   "outputs": [],
   "source": [
    "for i in range(len(a)-1,0,-1):\n",
    "    for j in range(len(a[i-1])):\n",
    "        if a[i][j] > a[i][j+1]:\n",
    "            a[i-1][j] += a[i][j]\n",
    "        else:\n",
    "            a[i-1][j] += a[i][j+1]"
   ]
  },
  {
   "cell_type": "code",
   "execution_count": 107,
   "id": "ceee5c44",
   "metadata": {},
   "outputs": [
    {
     "data": {
      "text/plain": [
       "1074"
      ]
     },
     "execution_count": 107,
     "metadata": {},
     "output_type": "execute_result"
    }
   ],
   "source": [
    "a[0][0]"
   ]
  },
  {
   "cell_type": "code",
   "execution_count": null,
   "id": "105022b5",
   "metadata": {},
   "outputs": [],
   "source": []
  }
 ],
 "metadata": {
  "kernelspec": {
   "display_name": "Python 3 (ipykernel)",
   "language": "python",
   "name": "python3"
  },
  "language_info": {
   "codemirror_mode": {
    "name": "ipython",
    "version": 3
   },
   "file_extension": ".py",
   "mimetype": "text/x-python",
   "name": "python",
   "nbconvert_exporter": "python",
   "pygments_lexer": "ipython3",
   "version": "3.9.13"
  }
 },
 "nbformat": 4,
 "nbformat_minor": 5
}
