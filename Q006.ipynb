{
 "cells": [
  {
   "cell_type": "code",
   "execution_count": 8,
   "id": "b51f557d",
   "metadata": {},
   "outputs": [
    {
     "data": {
      "text/plain": [
       "25164150"
      ]
     },
     "execution_count": 8,
     "metadata": {},
     "output_type": "execute_result"
    }
   ],
   "source": [
    "squ_sum =  0\n",
    "sum_squ =0\n",
    "\n",
    "for i in range(1,101):\n",
    "    squ_sum = (i*i) + squ_sum\n",
    "    sum_squ += i\n",
    "sum_squ = sum_squ *sum_squ\n",
    "\n",
    "sum_squ - squ_sum"
   ]
  },
  {
   "cell_type": "code",
   "execution_count": 7,
   "id": "4ad5d317",
   "metadata": {},
   "outputs": [
    {
     "name": "stdout",
     "output_type": "stream",
     "text": [
      "338350 25502500\n"
     ]
    }
   ],
   "source": [
    "print(squ_sum,sum_squ)"
   ]
  },
  {
   "cell_type": "code",
   "execution_count": null,
   "id": "f00a334c",
   "metadata": {},
   "outputs": [],
   "source": []
  }
 ],
 "metadata": {
  "kernelspec": {
   "display_name": "Python 3 (ipykernel)",
   "language": "python",
   "name": "python3"
  },
  "language_info": {
   "codemirror_mode": {
    "name": "ipython",
    "version": 3
   },
   "file_extension": ".py",
   "mimetype": "text/x-python",
   "name": "python",
   "nbconvert_exporter": "python",
   "pygments_lexer": "ipython3",
   "version": "3.9.13"
  }
 },
 "nbformat": 4,
 "nbformat_minor": 5
}
