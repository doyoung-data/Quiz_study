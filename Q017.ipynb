{
 "cells": [
  {
   "cell_type": "code",
   "execution_count": 73,
   "id": "fcb004bd",
   "metadata": {},
   "outputs": [],
   "source": [
    "sum=0\n",
    "num = ['one','two','three','four','five','six','seven','eight','nine','ten','eleven','twelve','thirteen','fourteen','fifteen','sixteen','seventeen','eighteen','nineteen']\n",
    "tens = ['twenty','thirty','forty','fifty','sixty','seventy','eighty','ninety']\n",
    "\n",
    "for i in tens:\n",
    "    num.append(i)\n",
    "    for j in range(0,9):\n",
    "        num.append(str(i + num[j]))\n",
    "\n",
    "for hun in range(0,9):\n",
    "    num.append(str(num[hun] + 'hundred'))\n",
    "    for hund_i in range(0,99):\n",
    "        num.append(str(num[hun]+'hundredand'+num[hund_i]))\n",
    "\n",
    "num.append('onethousand')"
   ]
  },
  {
   "cell_type": "code",
   "execution_count": 75,
   "id": "f275058f",
   "metadata": {},
   "outputs": [
    {
     "data": {
      "text/plain": [
       "21124"
      ]
     },
     "execution_count": 75,
     "metadata": {},
     "output_type": "execute_result"
    }
   ],
   "source": [
    "sum=0\n",
    "\n",
    "for n in num:\n",
    "    sum+=len(n)\n",
    "    \n",
    "sum"
   ]
  },
  {
   "cell_type": "code",
   "execution_count": null,
   "id": "3e61b560",
   "metadata": {},
   "outputs": [],
   "source": []
  }
 ],
 "metadata": {
  "kernelspec": {
   "display_name": "Python 3 (ipykernel)",
   "language": "python",
   "name": "python3"
  },
  "language_info": {
   "codemirror_mode": {
    "name": "ipython",
    "version": 3
   },
   "file_extension": ".py",
   "mimetype": "text/x-python",
   "name": "python",
   "nbconvert_exporter": "python",
   "pygments_lexer": "ipython3",
   "version": "3.9.13"
  }
 },
 "nbformat": 4,
 "nbformat_minor": 5
}
