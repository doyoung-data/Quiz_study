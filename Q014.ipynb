{
 "cells": [
  {
   "cell_type": "code",
   "execution_count": 76,
   "id": "795eb6a8",
   "metadata": {},
   "outputs": [],
   "source": [
    "def div(num, count):\n",
    "    if num == 1:\n",
    "        return count+1;\n",
    "    elif num % 2 == 0:\n",
    "        num = int(num / 2)\n",
    "        count += 1\n",
    "        return div(num,count);\n",
    "    else :\n",
    "        num = 3*num + 1\n",
    "        count += 1\n",
    "        return div(num, count)"
   ]
  },
  {
   "cell_type": "code",
   "execution_count": 83,
   "id": "fb32a352",
   "metadata": {},
   "outputs": [
    {
     "name": "stdout",
     "output_type": "stream",
     "text": [
      "1000000\n",
      "999999\n",
      "999667\n",
      "999295\n",
      "997823\n",
      "970599\n",
      "939497\n",
      "837799\n"
     ]
    }
   ],
   "source": [
    "num = 0\n",
    "max_num = 0\n",
    "for i in range(1000000, 1, -1):\n",
    "    num = div(i, 0)\n",
    "    if num > max_num:\n",
    "        max_num = num\n",
    "        print(i)"
   ]
  }
 ],
 "metadata": {
  "kernelspec": {
   "display_name": "Python 3 (ipykernel)",
   "language": "python",
   "name": "python3"
  },
  "language_info": {
   "codemirror_mode": {
    "name": "ipython",
    "version": 3
   },
   "file_extension": ".py",
   "mimetype": "text/x-python",
   "name": "python",
   "nbconvert_exporter": "python",
   "pygments_lexer": "ipython3",
   "version": "3.9.13"
  }
 },
 "nbformat": 4,
 "nbformat_minor": 5
}
