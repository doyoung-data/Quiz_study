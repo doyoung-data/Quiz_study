{
 "cells": [
  {
   "cell_type": "code",
   "execution_count": 40,
   "id": "18e9c156",
   "metadata": {},
   "outputs": [],
   "source": [
    "i = ['월','화','수','목','금','토','일']\n",
    "sum = 0\n",
    "a=[]\n",
    "\n",
    "for year in range(1901,2001):\n",
    "    for month in range(1,13):\n",
    "        if month in (4,6,9,11):\n",
    "            sum += 30\n",
    "            mon = (sum+1)%7\n",
    "            a.append(i[mon])\n",
    "        elif month in (1,3,5,7,8,10,12):\n",
    "            sum += 31\n",
    "            mon = (sum+1)%7\n",
    "            a.append(i[mon])\n",
    "        else:\n",
    "            if year % 4 != 0:\n",
    "                sum += 28\n",
    "                mon = (sum+1)%7\n",
    "                a.append(i[mon])\n",
    "                \n",
    "            elif year // 400 == 0:\n",
    "                sum += 29\n",
    "                mon = (sum+1)%7\n",
    "                a.append(i[mon])\n",
    "                \n",
    "            elif year // 100 == 0:\n",
    "                sum += 28\n",
    "                mon = (sum+1)%7\n",
    "                a.append(i[mon])\n",
    "                \n",
    "            else:\n",
    "                sum += 29\n",
    "                mon = (sum+1)%7\n",
    "                a.append(i[mon])"
   ]
  },
  {
   "cell_type": "code",
   "execution_count": 41,
   "id": "de80518b",
   "metadata": {},
   "outputs": [
    {
     "data": {
      "text/plain": [
       "171"
      ]
     },
     "execution_count": 41,
     "metadata": {},
     "output_type": "execute_result"
    }
   ],
   "source": [
    "a.count(\"일\")"
   ]
  }
 ],
 "metadata": {
  "kernelspec": {
   "display_name": "Python 3 (ipykernel)",
   "language": "python",
   "name": "python3"
  },
  "language_info": {
   "codemirror_mode": {
    "name": "ipython",
    "version": 3
   },
   "file_extension": ".py",
   "mimetype": "text/x-python",
   "name": "python",
   "nbconvert_exporter": "python",
   "pygments_lexer": "ipython3",
   "version": "3.9.13"
  }
 },
 "nbformat": 4,
 "nbformat_minor": 5
}
