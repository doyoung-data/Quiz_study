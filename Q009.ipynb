{
 "cells": [
  {
   "cell_type": "code",
   "execution_count": 18,
   "id": "fd0926e6",
   "metadata": {},
   "outputs": [
    {
     "name": "stdout",
     "output_type": "stream",
     "text": [
      "31875000\n",
      "31875000\n",
      "374506\n"
     ]
    }
   ],
   "source": [
    "sum = 1000\n",
    "max_num = 0\n",
    "\n",
    "for a in range(1, int(sum/2)):\n",
    "        b_c = sum - a\n",
    "        for b in range(1, int(b_c/2)):\n",
    "            c = b_c - b\n",
    "            if a**2 + b**2 == c**2:\n",
    "                print(a*b*c)\n",
    "            num = a**2 + b**2 + c**2\n",
    "            if num > max_num:\n",
    "                max_num = num\n",
    "                \n",
    "print(num)"
   ]
  },
  {
   "cell_type": "code",
   "execution_count": null,
   "id": "9d15dd69",
   "metadata": {},
   "outputs": [],
   "source": []
  }
 ],
 "metadata": {
  "kernelspec": {
   "display_name": "Python 3 (ipykernel)",
   "language": "python",
   "name": "python3"
  },
  "language_info": {
   "codemirror_mode": {
    "name": "ipython",
    "version": 3
   },
   "file_extension": ".py",
   "mimetype": "text/x-python",
   "name": "python",
   "nbconvert_exporter": "python",
   "pygments_lexer": "ipython3",
   "version": "3.9.13"
  }
 },
 "nbformat": 4,
 "nbformat_minor": 5
}
